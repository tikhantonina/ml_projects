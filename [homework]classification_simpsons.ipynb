{
  "metadata": {
    "kernelspec": {
      "language": "python",
      "display_name": "Python 3",
      "name": "python3"
    },
    "language_info": {
      "name": "python",
      "version": "3.7.10",
      "mimetype": "text/x-python",
      "codemirror_mode": {
        "name": "ipython",
        "version": 3
      },
      "pygments_lexer": "ipython3",
      "nbconvert_exporter": "python",
      "file_extension": ".py"
    },
    "colab": {
      "name": "the-simpsons-one-more-pipeline.ipynb",
      "provenance": [],
      "collapsed_sections": [],
      "include_colab_link": true
    }
  },
  "nbformat_minor": 0,
  "nbformat": 4,
  "cells": [
    {
      "cell_type": "markdown",
      "metadata": {
        "id": "view-in-github",
        "colab_type": "text"
      },
      "source": [
        "<a href=\"https://colab.research.google.com/github/tikhantonina/ml_projects/blob/main/the_simpsons_one_more_pipeline.ipynb\" target=\"_parent\"><img src=\"https://colab.research.google.com/assets/colab-badge.svg\" alt=\"Open In Colab\"/></a>"
      ]
    },
    {
      "cell_type": "markdown",
      "source": [
        "# The Simpsons\n",
        "![The Simpsons](https://upload.wikimedia.org/wikipedia/ru/4/42/Simpsons_cast.jpg)"
      ],
      "metadata": {
        "id": "YZQqgkKuKren"
      }
    },
    {
      "cell_type": "markdown",
      "source": [
        "...one more pipeline..."
      ],
      "metadata": {
        "id": "ZvksKYslKres"
      }
    },
    {
      "cell_type": "code",
      "source": [
        "import os\n",
        "import numpy as np\n",
        "import pandas as pd\n",
        "import torch\n",
        "import torch.nn as nn\n",
        "import torchvision\n",
        "import torchvision.transforms as tfs\n",
        "import matplotlib.pyplot as plt\n",
        "from tqdm.notebook import tqdm\n",
        "from sklearn.model_selection import train_test_split\n",
        "from sklearn.metrics import f1_score\n",
        "import torch.optim as optim\n",
        "from torch.optim import lr_scheduler\n",
        "from torchvision import datasets, models\n"
      ],
      "metadata": {
        "_uuid": "8f2839f25d086af736a60e9eeb907d3b93b6e0e5",
        "_cell_guid": "b1076dfc-b9ad-4769-8c92-a6c4dae69d19",
        "execution": {
          "iopub.status.busy": "2022-03-29T05:56:59.152909Z",
          "iopub.execute_input": "2022-03-29T05:56:59.153432Z",
          "iopub.status.idle": "2022-03-29T05:57:01.684395Z",
          "shell.execute_reply.started": "2022-03-29T05:56:59.153332Z",
          "shell.execute_reply": "2022-03-29T05:57:01.683661Z"
        },
        "trusted": true,
        "id": "3-DL0ppEKret"
      },
      "execution_count": null,
      "outputs": []
    },
    {
      "cell_type": "markdown",
      "source": [
        "# Load data"
      ],
      "metadata": {
        "id": "hzdepnXkKreu"
      }
    },
    {
      "cell_type": "code",
      "source": [
        "# for dirname, _, filenames in os.walk('/kaggle/input'):\n",
        "#     print('{} CONTAINS {} files'.format(dirname, len(filenames)))"
      ],
      "metadata": {
        "execution": {
          "iopub.status.busy": "2022-03-29T05:57:06.016330Z",
          "iopub.execute_input": "2022-03-29T05:57:06.016808Z",
          "iopub.status.idle": "2022-03-29T05:57:06.020039Z",
          "shell.execute_reply.started": "2022-03-29T05:57:06.016769Z",
          "shell.execute_reply": "2022-03-29T05:57:06.019188Z"
        },
        "trusted": true,
        "id": "j3J3f3OpKrev"
      },
      "execution_count": null,
      "outputs": []
    },
    {
      "cell_type": "code",
      "source": [
        "input_dir = '/kaggle/input/journey-springfield/train/simpsons_dataset/'\n",
        "rescale_size = 244\n",
        "batch_size = 32 # 32 - resnet152. 64 - all another\n",
        "# Imagenet mean and standard (are calculated from all of images)\n",
        "imagenet_mean = np.array([0.485, 0.456, 0.406])\n",
        "imagenet_std = np.array([0.229, 0.224, 0.225])\n",
        "DEVICE = torch.device('cuda') if torch.cuda.is_available() else torch.device('cpu')"
      ],
      "metadata": {
        "execution": {
          "iopub.status.busy": "2022-03-29T05:57:06.176906Z",
          "iopub.execute_input": "2022-03-29T05:57:06.177782Z",
          "iopub.status.idle": "2022-03-29T05:57:06.239088Z",
          "shell.execute_reply.started": "2022-03-29T05:57:06.177733Z",
          "shell.execute_reply": "2022-03-29T05:57:06.238266Z"
        },
        "trusted": true,
        "id": "FHZHcRHMKrev"
      },
      "execution_count": null,
      "outputs": []
    },
    {
      "cell_type": "code",
      "source": [
        "transform = tfs.Compose([\n",
        "    tfs.Resize((int(rescale_size * 1.25), int(rescale_size * 1.25))),\n",
        "    tfs.RandomCrop(rescale_size),\n",
        "    tfs.RandomHorizontalFlip(),\n",
        "    tfs.ToTensor(),\n",
        "    tfs.Normalize(imagenet_mean, imagenet_std)\n",
        "])\n",
        "\n",
        "dataset_full = torchvision.datasets.ImageFolder(root=input_dir, transform=transform)\n",
        "\n",
        "# split full dataset\n",
        "train_idx, valid_idx = train_test_split(list(range(len(dataset_full))), train_size=0.8)\n"
      ],
      "metadata": {
        "execution": {
          "iopub.status.busy": "2022-03-29T05:57:06.356986Z",
          "iopub.execute_input": "2022-03-29T05:57:06.357455Z",
          "iopub.status.idle": "2022-03-29T05:57:14.982010Z",
          "shell.execute_reply.started": "2022-03-29T05:57:06.357419Z",
          "shell.execute_reply": "2022-03-29T05:57:14.981253Z"
        },
        "trusted": true,
        "id": "nmzAm6otKrew"
      },
      "execution_count": null,
      "outputs": []
    },
    {
      "cell_type": "code",
      "source": [
        "dataset = {\n",
        "    'train': torch.utils.data.Subset(dataset_full, train_idx),\n",
        "    'valid': torch.utils.data.Subset(dataset_full, valid_idx)\n",
        "}\n",
        "\n",
        "dataset_size = {ds: len(dataset[ds]) for ds in ['train', 'valid']}\n",
        "dataset_classes = np.array(dataset_full.classes)\n",
        "print('classes:', dataset_classes, '\\nsize', dataset_size)\n",
        "\n",
        "dataloader = {\n",
        "    'train': torch.utils.data.DataLoader(\n",
        "        dataset=dataset['train'], batch_size=batch_size, shuffle=True, num_workers=2\n",
        "    ),\n",
        "    'valid': torch.utils.data.DataLoader(\n",
        "        dataset=dataset['valid'], batch_size=batch_size, shuffle=False, num_workers=2\n",
        "    ),\n",
        "}"
      ],
      "metadata": {
        "execution": {
          "iopub.status.busy": "2022-03-29T05:57:14.984150Z",
          "iopub.execute_input": "2022-03-29T05:57:14.984723Z",
          "iopub.status.idle": "2022-03-29T05:57:14.994258Z",
          "shell.execute_reply.started": "2022-03-29T05:57:14.984669Z",
          "shell.execute_reply": "2022-03-29T05:57:14.993267Z"
        },
        "trusted": true,
        "id": "MCi0EOQMKrex",
        "outputId": "c23996bc-ec38-4a2c-fa62-22f3b56b7faa"
      },
      "execution_count": null,
      "outputs": [
        {
          "name": "stdout",
          "text": "classes: ['abraham_grampa_simpson' 'agnes_skinner' 'apu_nahasapeemapetilon'\n 'barney_gumble' 'bart_simpson' 'carl_carlson' 'charles_montgomery_burns'\n 'chief_wiggum' 'cletus_spuckler' 'comic_book_guy' 'disco_stu'\n 'edna_krabappel' 'fat_tony' 'gil' 'groundskeeper_willie' 'homer_simpson'\n 'kent_brockman' 'krusty_the_clown' 'lenny_leonard' 'lionel_hutz'\n 'lisa_simpson' 'maggie_simpson' 'marge_simpson' 'martin_prince'\n 'mayor_quimby' 'milhouse_van_houten' 'miss_hoover' 'moe_szyslak'\n 'ned_flanders' 'nelson_muntz' 'otto_mann' 'patty_bouvier'\n 'principal_skinner' 'professor_john_frink' 'rainier_wolfcastle'\n 'ralph_wiggum' 'selma_bouvier' 'sideshow_bob' 'sideshow_mel'\n 'snake_jailbird' 'troy_mcclure' 'waylon_smithers'] \nsize {'train': 16746, 'valid': 4187}\n",
          "output_type": "stream"
        }
      ]
    },
    {
      "cell_type": "code",
      "source": [
        "transform = tfs.Compose([\n",
        "    tfs.Resize((int(rescale_size * 1.05), int(rescale_size * 1.05))),\n",
        "    tfs.CenterCrop(rescale_size),\n",
        "    tfs.ToTensor(),\n",
        "    tfs.Normalize(imagenet_mean, imagenet_std)\n",
        "])\n",
        "dataset_test = torchvision.datasets.ImageFolder(\n",
        "    root='/kaggle/input/journey-springfield/testset',\n",
        "    transform=transform\n",
        ")\n",
        "dataloader_test = torch.utils.data.DataLoader(dataset_test, shuffle=False, batch_size=batch_size)\n",
        "test_filenames = [fn[0].split('/')[-1] for fn in dataset_test.imgs]"
      ],
      "metadata": {
        "execution": {
          "iopub.status.busy": "2022-03-29T05:57:14.995822Z",
          "iopub.execute_input": "2022-03-29T05:57:14.996138Z",
          "iopub.status.idle": "2022-03-29T05:57:15.247744Z",
          "shell.execute_reply.started": "2022-03-29T05:57:14.996101Z",
          "shell.execute_reply": "2022-03-29T05:57:15.247020Z"
        },
        "trusted": true,
        "id": "opDNSFdQKrey"
      },
      "execution_count": null,
      "outputs": []
    },
    {
      "cell_type": "markdown",
      "source": [
        "# Show some data"
      ],
      "metadata": {
        "id": "X7FOXeB7Krez"
      }
    },
    {
      "cell_type": "code",
      "source": [
        "def get_batches(dataloader, num_of_batches=1):\n",
        "    assert(num_of_batches > 0)\n",
        "    images, classes = next(iter(dataloader))\n",
        "    for _ in range(num_of_batches - 1):\n",
        "        image_batch, cls_batch = next(iter(dataloader))\n",
        "        images = torch.cat([images, image_batch], dim=0)\n",
        "        classes = torch.cat([classes, cls_batch], dim=0)\n",
        "    return images, classes"
      ],
      "metadata": {
        "execution": {
          "iopub.status.busy": "2022-03-29T05:57:15.250286Z",
          "iopub.execute_input": "2022-03-29T05:57:15.250539Z",
          "iopub.status.idle": "2022-03-29T05:57:15.256564Z",
          "shell.execute_reply.started": "2022-03-29T05:57:15.250503Z",
          "shell.execute_reply": "2022-03-29T05:57:15.255779Z"
        },
        "trusted": true,
        "id": "841YjlQ5Kre0"
      },
      "execution_count": null,
      "outputs": []
    },
    {
      "cell_type": "code",
      "source": [
        "def show_batches(images, classes):\n",
        "    imagenet_mean = np.array([0.485, 0.456, 0.406])\n",
        "    imagenet_std = np.array([0.229, 0.224, 0.225])\n",
        "    cols = (images.shape[0] + 3) // 4\n",
        "    images = images.numpy().transpose(0,2,3,1)\n",
        "    images = images * imagenet_std + imagenet_mean\n",
        "    fig, axes = plt.subplots(cols, 4, figsize=(12, cols * 3))\n",
        "    for ax, img, img_cls in zip(axes.flatten(), images, classes.numpy()):\n",
        "        ax.imshow(img)\n",
        "        ax.set_xticks([])\n",
        "        ax.set_xlabel(dataset_classes[img_cls], fontsize=16)\n",
        "    plt.tight_layout()\n",
        "    plt.show()"
      ],
      "metadata": {
        "execution": {
          "iopub.status.busy": "2022-03-29T05:57:15.258342Z",
          "iopub.execute_input": "2022-03-29T05:57:15.258918Z",
          "iopub.status.idle": "2022-03-29T05:57:15.267798Z",
          "shell.execute_reply.started": "2022-03-29T05:57:15.258821Z",
          "shell.execute_reply": "2022-03-29T05:57:15.267155Z"
        },
        "trusted": true,
        "id": "eT_vE1vjKre0"
      },
      "execution_count": null,
      "outputs": []
    },
    {
      "cell_type": "code",
      "source": [
        "# images, classes = get_batches(dataloader['train'])\n",
        "# show_batches(images, classes)"
      ],
      "metadata": {
        "execution": {
          "iopub.status.busy": "2022-03-29T05:57:15.268777Z",
          "iopub.execute_input": "2022-03-29T05:57:15.270807Z",
          "iopub.status.idle": "2022-03-29T05:57:15.277202Z",
          "shell.execute_reply.started": "2022-03-29T05:57:15.270768Z",
          "shell.execute_reply": "2022-03-29T05:57:15.276384Z"
        },
        "trusted": true,
        "id": "03an6nwGKre1"
      },
      "execution_count": null,
      "outputs": []
    },
    {
      "cell_type": "markdown",
      "source": [
        "# Fit functions"
      ],
      "metadata": {
        "id": "tGTboMNiKre1"
      }
    },
    {
      "cell_type": "code",
      "source": [
        "def train_model(\n",
        "    model: torch.nn.Module,\n",
        "    criterion: torch.nn.Module,\n",
        "    optimizer: torch.nn.Module,\n",
        "    sheduler: torch.nn.Module,\n",
        "    epochs: int = 10\n",
        ") -> (torch.nn.Module, dict):\n",
        "    r\"\"\"Training the model. Returns best model, dictionary of train and validation losses, dictionary of train and validation accuracies.\n",
        "    Args:\n",
        "        model (torch.nn.Module): Neural network\n",
        "        criterion (torch.nn.Module): Cost function\n",
        "        optimizer (torch.nn.Module): Optimization algorithm\n",
        "        sheduler (torch.nn.Module): Learning rate change policy\n",
        "        epochs (int): Number of training iterations. Default: 25\n",
        "    \"\"\"\n",
        "    \n",
        "    losses = {'train': [], 'valid': []}\n",
        "    accuracies = {'train': [], 'valid': []}\n",
        "    best_model_weights = model.state_dict()\n",
        "    best_accuracy = 0.\n",
        "    progress = tqdm(range(epochs), desc='Epoch:')\n",
        "    \n",
        "    for epoch in progress:\n",
        "        for phase in ['train', 'valid']:\n",
        "            loss_accum = 0.\n",
        "            corr_accum = 0\n",
        "            model.train(mode=(phase == 'train'))\n",
        "            \n",
        "            for inputs, labels in tqdm(dataloader[phase], desc=f'Phase {phase}:'):\n",
        "                inputs = inputs.to(DEVICE)\n",
        "                labels = labels.to(DEVICE)\n",
        "            \n",
        "                if phase == 'train':\n",
        "                    optimizer.zero_grad()\n",
        "                    outp = model(inputs)\n",
        "                    loss = criterion(outp, labels)\n",
        "                    loss.backward()\n",
        "                    optimizer.step()\n",
        "                else:\n",
        "                    with torch.no_grad():\n",
        "                        outp = model(inputs)\n",
        "                        loss = criterion(outp, labels)\n",
        "                \n",
        "                preds = torch.argmax(outp, -1)\n",
        "                loss_accum += loss.item()\n",
        "                corr_accum += (preds == labels.data).sum()\n",
        "\n",
        "            if phase == 'train':\n",
        "                sheduler.step()\n",
        "                \n",
        "            epoch_loss = loss_accum / dataset_size[phase]\n",
        "            epoch_accuracy = corr_accum / dataset_size[phase]\n",
        "            losses[phase].append(epoch_loss)\n",
        "            accuracies[phase].append(epoch_accuracy)\n",
        "            progress.set_description('loss: {:.4f}, acc: {:.4f}'.format(epoch_loss, epoch_accuracy))\n",
        "            if phase == 'valid' and epoch_accuracy > best_accuracy:\n",
        "                best_accuracy = epoch_accuracy\n",
        "                best_model_weights = model.state_dict()\n",
        "    \n",
        "    model.load_state_dict(best_model_weights)\n",
        "    return model, losses, accuracies"
      ],
      "metadata": {
        "execution": {
          "iopub.status.busy": "2022-03-29T05:57:15.279203Z",
          "iopub.execute_input": "2022-03-29T05:57:15.279638Z",
          "iopub.status.idle": "2022-03-29T05:57:15.294081Z",
          "shell.execute_reply.started": "2022-03-29T05:57:15.279589Z",
          "shell.execute_reply": "2022-03-29T05:57:15.293419Z"
        },
        "trusted": true,
        "id": "oae3JxMXKre2"
      },
      "execution_count": null,
      "outputs": []
    },
    {
      "cell_type": "code",
      "source": [
        "def show_metrics(metrics):\n",
        "    plt.figure(figsize=(12, 8))\n",
        "    plt.plot(metrics['train'], label='train')\n",
        "    plt.plot(metrics['valid'], label='val')\n",
        "    plt.grid()\n",
        "    plt.legend()\n",
        "    plt.show()"
      ],
      "metadata": {
        "execution": {
          "iopub.status.busy": "2022-03-29T05:57:15.295274Z",
          "iopub.execute_input": "2022-03-29T05:57:15.295894Z",
          "iopub.status.idle": "2022-03-29T05:57:15.306916Z",
          "shell.execute_reply.started": "2022-03-29T05:57:15.295852Z",
          "shell.execute_reply": "2022-03-29T05:57:15.306136Z"
        },
        "trusted": true,
        "id": "YzlW7LPkKre2"
      },
      "execution_count": null,
      "outputs": []
    },
    {
      "cell_type": "code",
      "source": [
        "def show_metrics_all(losses, accuracies):\n",
        "    def show_ax(ax_idx, metric, title):\n",
        "        axes[ax_idx].plot(metric['train'], label='train')\n",
        "        axes[ax_idx].plot(metric['valid'], label='valid')\n",
        "        axes[ax_idx].grid()\n",
        "        axes[ax_idx].legend()\n",
        "        axes[ax_idx].set_title(title)\n",
        "\n",
        "    fig, axes = plt.subplots(1, 2, figsize=(20, 8))\n",
        "    show_ax(0, losses, 'loss')\n",
        "    show_ax(1, accuracies, 'accuracy')\n",
        "    plt.show()"
      ],
      "metadata": {
        "execution": {
          "iopub.status.busy": "2022-03-29T05:57:15.309062Z",
          "iopub.execute_input": "2022-03-29T05:57:15.309438Z",
          "iopub.status.idle": "2022-03-29T05:57:15.318849Z",
          "shell.execute_reply.started": "2022-03-29T05:57:15.309343Z",
          "shell.execute_reply": "2022-03-29T05:57:15.317994Z"
        },
        "trusted": true,
        "id": "na9BMk8iKre3"
      },
      "execution_count": null,
      "outputs": []
    },
    {
      "cell_type": "markdown",
      "source": [
        "# Predict functions"
      ],
      "metadata": {
        "id": "mrxmNNELKre3"
      }
    },
    {
      "cell_type": "code",
      "source": [
        "def predict(model, dataloader_test):\n",
        "    logits = []\n",
        "    model.eval()\n",
        "    with torch.no_grad():\n",
        "        for inputs, _ in tqdm(dataloader_test):\n",
        "            inputs = inputs.to(DEVICE)\n",
        "            outputs = model(inputs).cpu()\n",
        "            logits.append(outputs)\n",
        "    probs = nn.functional.softmax(torch.cat(logits), dim=-1).numpy()\n",
        "    return probs"
      ],
      "metadata": {
        "execution": {
          "iopub.status.busy": "2022-03-29T05:57:15.321780Z",
          "iopub.execute_input": "2022-03-29T05:57:15.322381Z",
          "iopub.status.idle": "2022-03-29T05:57:15.329601Z",
          "shell.execute_reply.started": "2022-03-29T05:57:15.322343Z",
          "shell.execute_reply": "2022-03-29T05:57:15.328891Z"
        },
        "trusted": true,
        "id": "IOoG_gS_Kre3"
      },
      "execution_count": null,
      "outputs": []
    },
    {
      "cell_type": "code",
      "source": [
        "def predict_to_submission(model, dataloader_test=dataloader_test, test_filenames=test_filenames, dataset_classes=dataset_classes):\n",
        "    probs = predict(model, dataloader_test)\n",
        "    print(probs.shape)\n",
        "    predictions = np.argmax(probs, axis=1)\n",
        "    preds = dataset_classes[predictions]\n",
        "    submission = pd.read_csv('/kaggle/input/journey-springfield/sample_submission.csv')\n",
        "    submission = pd.DataFrame({'Id': test_filenames, 'Expected': preds}).sort_values('Id')\n",
        "    submission.to_csv('./submission.csv', index=False)"
      ],
      "metadata": {
        "execution": {
          "iopub.status.busy": "2022-03-29T05:57:15.331148Z",
          "iopub.execute_input": "2022-03-29T05:57:15.331667Z",
          "iopub.status.idle": "2022-03-29T05:57:15.339049Z",
          "shell.execute_reply.started": "2022-03-29T05:57:15.331627Z",
          "shell.execute_reply": "2022-03-29T05:57:15.338325Z"
        },
        "trusted": true,
        "id": "_AnUhJKfKre4"
      },
      "execution_count": null,
      "outputs": []
    },
    {
      "cell_type": "markdown",
      "source": [
        "# Resnet Model"
      ],
      "metadata": {
        "id": "JuKdjMWpKre4"
      }
    },
    {
      "cell_type": "code",
      "source": [
        "model = torchvision.models.resnet152(pretrained=True)"
      ],
      "metadata": {
        "execution": {
          "iopub.status.busy": "2022-03-29T05:57:15.340519Z",
          "iopub.execute_input": "2022-03-29T05:57:15.341159Z",
          "iopub.status.idle": "2022-03-29T05:57:21.728531Z",
          "shell.execute_reply.started": "2022-03-29T05:57:15.341117Z",
          "shell.execute_reply": "2022-03-29T05:57:21.727820Z"
        },
        "trusted": true,
        "colab": {
          "referenced_widgets": [
            "2a4d4dec6358404589d4c4bc0ec8df9c"
          ]
        },
        "id": "dHyJESw0Kre4",
        "outputId": "c4cb7180-c747-4ad2-b263-4ff5e05329b0"
      },
      "execution_count": null,
      "outputs": [
        {
          "name": "stderr",
          "text": "Downloading: \"https://download.pytorch.org/models/resnet152-394f9c45.pth\" to /root/.cache/torch/hub/checkpoints/resnet152-394f9c45.pth\n",
          "output_type": "stream"
        },
        {
          "output_type": "display_data",
          "data": {
            "text/plain": "  0%|          | 0.00/230M [00:00<?, ?B/s]",
            "application/vnd.jupyter.widget-view+json": {
              "version_major": 2,
              "version_minor": 0,
              "model_id": "2a4d4dec6358404589d4c4bc0ec8df9c"
            }
          },
          "metadata": {}
        }
      ]
    },
    {
      "cell_type": "code",
      "source": [
        "# num_features -- это размерность вектора фич, поступающего на вход FC-слою\n",
        "num_features = 2048\n",
        "# Заменяем Fully-Connected слой на линейный классификатор\n",
        "model.fc = nn.Linear(num_features, 42)"
      ],
      "metadata": {
        "execution": {
          "iopub.status.busy": "2022-03-29T05:57:21.730431Z",
          "iopub.execute_input": "2022-03-29T05:57:21.730764Z",
          "iopub.status.idle": "2022-03-29T05:57:21.736431Z",
          "shell.execute_reply.started": "2022-03-29T05:57:21.730729Z",
          "shell.execute_reply": "2022-03-29T05:57:21.735663Z"
        },
        "trusted": true,
        "id": "GJaVMl3JKre4"
      },
      "execution_count": null,
      "outputs": []
    },
    {
      "cell_type": "code",
      "source": [
        "model.to(DEVICE)\n",
        "loss = torch.nn.CrossEntropyLoss()\n",
        "optimizer = torch.optim.Adam(model.parameters(), lr=1e-4)\n",
        "sheduler = torch.optim.lr_scheduler.StepLR(optimizer, step_size=7, gamma=0.1)\n",
        "model, losses, accuracies = train_model(model, loss, optimizer, sheduler, epochs=20)\n",
        "show_metrics_all(losses, accuracies)\n",
        "predict_to_submission(model)"
      ],
      "metadata": {
        "execution": {
          "iopub.status.busy": "2022-03-29T05:57:21.738742Z",
          "iopub.execute_input": "2022-03-29T05:57:21.739246Z",
          "iopub.status.idle": "2022-03-29T07:42:36.292772Z",
          "shell.execute_reply.started": "2022-03-29T05:57:21.739208Z",
          "shell.execute_reply": "2022-03-29T07:42:36.291710Z"
        },
        "trusted": true,
        "colab": {
          "referenced_widgets": [
            "d35bf94fdd064d54b7df33fe8d301716",
            "061a0a45790f4f6aab43c0da1a2e448b",
            "9e9389aeb53446faa339d1031b12572d",
            "0148e40726fa401da1471dee029ce780",
            "bfe4661138c44e85b44cef79f012d218",
            "9e6cc8ed30b3415086cba8cb3bcc1045",
            "6c342666bfd04287848f5d029c011145",
            "25d1d6f8088246099fc54514cd41e198",
            "fd5799d75d4c4a8b9c5a34a9d905d2db",
            "98090cfbac7b4874bec199352264d04d",
            "512c3961f381403b87197bcbd75b804e",
            "afa51ede3f444524b8932a1b6486654f",
            "9d05a6686fca4ee8ab070e6676845376",
            "f1cfaa744535433abf3ef7516827b970",
            "049123c96f09471697b2526e84178bb3",
            "24d19e4caa7a4c5c94defc0c2803a82c",
            "a17aa81ed3704219a175eb3d793c71b0",
            "5402ffd1093f4c29b333a25bd0207054",
            "4239f62e67164c03a2d25efae450abe7",
            "5864e615ffbb4a69b0dfdc7ff7683444",
            "5d6c3873eb61486bac311002362f71fb",
            "e35a452791874a588c833ff3817bef43",
            "decbb77464c44b3da752934e64857c4b",
            "9140cc19f4514abd8489d0c053697603",
            "9f53db0d9a9048cd936b953936db96ab",
            "f5aa972278e844ada365eabb1710d627",
            "460f490f846f4b07bd5a0b1a1024729e",
            "f0e68af0ffa34465bd80a7b929b49016",
            "01f85352c35f40e7ac8144e6677af2d9",
            "f6ec8389bec647a29276a08828a1413e",
            "44134038981b4be8a4f2fe6d1c77a0a4",
            "6ffa32204d5b49159939f3c2d9c72ace",
            "e07a5db74edf428b9e3e05c7237b1ca1",
            "5ea64ef48f0e4abe8675e6ef0ce90117",
            "cad51b7b0af34c4cba3298fdeade49bc",
            "20b81f7426554beb8da3337bc10b2593",
            "60f920c86d304651a0b40b3a65099979",
            "00a893ea5be547e6a1a4049c2988b2cf",
            "a749c28eeb5d42ff9a22304b8c22f0e6",
            "c04973385eac40fa80a2d1162f4cc71c",
            "249995836ce84c48b1a56f50aef501ee",
            "f59771d5f3084da39c348dd4687923ed"
          ]
        },
        "id": "z89FoAomKre5",
        "outputId": "142a5734-9b77-48fa-c5ae-4610df415fe8"
      },
      "execution_count": null,
      "outputs": [
        {
          "output_type": "display_data",
          "data": {
            "text/plain": "Epoch::   0%|          | 0/20 [00:00<?, ?it/s]",
            "application/vnd.jupyter.widget-view+json": {
              "version_major": 2,
              "version_minor": 0,
              "model_id": "d35bf94fdd064d54b7df33fe8d301716"
            }
          },
          "metadata": {}
        },
        {
          "output_type": "display_data",
          "data": {
            "text/plain": "Phase train::   0%|          | 0/524 [00:00<?, ?it/s]",
            "application/vnd.jupyter.widget-view+json": {
              "version_major": 2,
              "version_minor": 0,
              "model_id": "061a0a45790f4f6aab43c0da1a2e448b"
            }
          },
          "metadata": {}
        },
        {
          "output_type": "display_data",
          "data": {
            "text/plain": "Phase valid::   0%|          | 0/131 [00:00<?, ?it/s]",
            "application/vnd.jupyter.widget-view+json": {
              "version_major": 2,
              "version_minor": 0,
              "model_id": "9e9389aeb53446faa339d1031b12572d"
            }
          },
          "metadata": {}
        },
        {
          "output_type": "display_data",
          "data": {
            "text/plain": "Phase train::   0%|          | 0/524 [00:00<?, ?it/s]",
            "application/vnd.jupyter.widget-view+json": {
              "version_major": 2,
              "version_minor": 0,
              "model_id": "0148e40726fa401da1471dee029ce780"
            }
          },
          "metadata": {}
        },
        {
          "output_type": "display_data",
          "data": {
            "text/plain": "Phase valid::   0%|          | 0/131 [00:00<?, ?it/s]",
            "application/vnd.jupyter.widget-view+json": {
              "version_major": 2,
              "version_minor": 0,
              "model_id": "bfe4661138c44e85b44cef79f012d218"
            }
          },
          "metadata": {}
        },
        {
          "output_type": "display_data",
          "data": {
            "text/plain": "Phase train::   0%|          | 0/524 [00:00<?, ?it/s]",
            "application/vnd.jupyter.widget-view+json": {
              "version_major": 2,
              "version_minor": 0,
              "model_id": "9e6cc8ed30b3415086cba8cb3bcc1045"
            }
          },
          "metadata": {}
        },
        {
          "output_type": "display_data",
          "data": {
            "text/plain": "Phase valid::   0%|          | 0/131 [00:00<?, ?it/s]",
            "application/vnd.jupyter.widget-view+json": {
              "version_major": 2,
              "version_minor": 0,
              "model_id": "6c342666bfd04287848f5d029c011145"
            }
          },
          "metadata": {}
        },
        {
          "output_type": "display_data",
          "data": {
            "text/plain": "Phase train::   0%|          | 0/524 [00:00<?, ?it/s]",
            "application/vnd.jupyter.widget-view+json": {
              "version_major": 2,
              "version_minor": 0,
              "model_id": "25d1d6f8088246099fc54514cd41e198"
            }
          },
          "metadata": {}
        },
        {
          "output_type": "display_data",
          "data": {
            "text/plain": "Phase valid::   0%|          | 0/131 [00:00<?, ?it/s]",
            "application/vnd.jupyter.widget-view+json": {
              "version_major": 2,
              "version_minor": 0,
              "model_id": "fd5799d75d4c4a8b9c5a34a9d905d2db"
            }
          },
          "metadata": {}
        },
        {
          "output_type": "display_data",
          "data": {
            "text/plain": "Phase train::   0%|          | 0/524 [00:00<?, ?it/s]",
            "application/vnd.jupyter.widget-view+json": {
              "version_major": 2,
              "version_minor": 0,
              "model_id": "98090cfbac7b4874bec199352264d04d"
            }
          },
          "metadata": {}
        },
        {
          "output_type": "display_data",
          "data": {
            "text/plain": "Phase valid::   0%|          | 0/131 [00:00<?, ?it/s]",
            "application/vnd.jupyter.widget-view+json": {
              "version_major": 2,
              "version_minor": 0,
              "model_id": "512c3961f381403b87197bcbd75b804e"
            }
          },
          "metadata": {}
        },
        {
          "output_type": "display_data",
          "data": {
            "text/plain": "Phase train::   0%|          | 0/524 [00:00<?, ?it/s]",
            "application/vnd.jupyter.widget-view+json": {
              "version_major": 2,
              "version_minor": 0,
              "model_id": "afa51ede3f444524b8932a1b6486654f"
            }
          },
          "metadata": {}
        },
        {
          "output_type": "display_data",
          "data": {
            "text/plain": "Phase valid::   0%|          | 0/131 [00:00<?, ?it/s]",
            "application/vnd.jupyter.widget-view+json": {
              "version_major": 2,
              "version_minor": 0,
              "model_id": "9d05a6686fca4ee8ab070e6676845376"
            }
          },
          "metadata": {}
        },
        {
          "output_type": "display_data",
          "data": {
            "text/plain": "Phase train::   0%|          | 0/524 [00:00<?, ?it/s]",
            "application/vnd.jupyter.widget-view+json": {
              "version_major": 2,
              "version_minor": 0,
              "model_id": "f1cfaa744535433abf3ef7516827b970"
            }
          },
          "metadata": {}
        },
        {
          "output_type": "display_data",
          "data": {
            "text/plain": "Phase valid::   0%|          | 0/131 [00:00<?, ?it/s]",
            "application/vnd.jupyter.widget-view+json": {
              "version_major": 2,
              "version_minor": 0,
              "model_id": "049123c96f09471697b2526e84178bb3"
            }
          },
          "metadata": {}
        },
        {
          "output_type": "display_data",
          "data": {
            "text/plain": "Phase train::   0%|          | 0/524 [00:00<?, ?it/s]",
            "application/vnd.jupyter.widget-view+json": {
              "version_major": 2,
              "version_minor": 0,
              "model_id": "24d19e4caa7a4c5c94defc0c2803a82c"
            }
          },
          "metadata": {}
        },
        {
          "output_type": "display_data",
          "data": {
            "text/plain": "Phase valid::   0%|          | 0/131 [00:00<?, ?it/s]",
            "application/vnd.jupyter.widget-view+json": {
              "version_major": 2,
              "version_minor": 0,
              "model_id": "a17aa81ed3704219a175eb3d793c71b0"
            }
          },
          "metadata": {}
        },
        {
          "output_type": "display_data",
          "data": {
            "text/plain": "Phase train::   0%|          | 0/524 [00:00<?, ?it/s]",
            "application/vnd.jupyter.widget-view+json": {
              "version_major": 2,
              "version_minor": 0,
              "model_id": "5402ffd1093f4c29b333a25bd0207054"
            }
          },
          "metadata": {}
        },
        {
          "output_type": "display_data",
          "data": {
            "text/plain": "Phase valid::   0%|          | 0/131 [00:00<?, ?it/s]",
            "application/vnd.jupyter.widget-view+json": {
              "version_major": 2,
              "version_minor": 0,
              "model_id": "4239f62e67164c03a2d25efae450abe7"
            }
          },
          "metadata": {}
        },
        {
          "output_type": "display_data",
          "data": {
            "text/plain": "Phase train::   0%|          | 0/524 [00:00<?, ?it/s]",
            "application/vnd.jupyter.widget-view+json": {
              "version_major": 2,
              "version_minor": 0,
              "model_id": "5864e615ffbb4a69b0dfdc7ff7683444"
            }
          },
          "metadata": {}
        },
        {
          "output_type": "display_data",
          "data": {
            "text/plain": "Phase valid::   0%|          | 0/131 [00:00<?, ?it/s]",
            "application/vnd.jupyter.widget-view+json": {
              "version_major": 2,
              "version_minor": 0,
              "model_id": "5d6c3873eb61486bac311002362f71fb"
            }
          },
          "metadata": {}
        },
        {
          "output_type": "display_data",
          "data": {
            "text/plain": "Phase train::   0%|          | 0/524 [00:00<?, ?it/s]",
            "application/vnd.jupyter.widget-view+json": {
              "version_major": 2,
              "version_minor": 0,
              "model_id": "e35a452791874a588c833ff3817bef43"
            }
          },
          "metadata": {}
        },
        {
          "output_type": "display_data",
          "data": {
            "text/plain": "Phase valid::   0%|          | 0/131 [00:00<?, ?it/s]",
            "application/vnd.jupyter.widget-view+json": {
              "version_major": 2,
              "version_minor": 0,
              "model_id": "decbb77464c44b3da752934e64857c4b"
            }
          },
          "metadata": {}
        },
        {
          "output_type": "display_data",
          "data": {
            "text/plain": "Phase train::   0%|          | 0/524 [00:00<?, ?it/s]",
            "application/vnd.jupyter.widget-view+json": {
              "version_major": 2,
              "version_minor": 0,
              "model_id": "9140cc19f4514abd8489d0c053697603"
            }
          },
          "metadata": {}
        },
        {
          "output_type": "display_data",
          "data": {
            "text/plain": "Phase valid::   0%|          | 0/131 [00:00<?, ?it/s]",
            "application/vnd.jupyter.widget-view+json": {
              "version_major": 2,
              "version_minor": 0,
              "model_id": "9f53db0d9a9048cd936b953936db96ab"
            }
          },
          "metadata": {}
        },
        {
          "output_type": "display_data",
          "data": {
            "text/plain": "Phase train::   0%|          | 0/524 [00:00<?, ?it/s]",
            "application/vnd.jupyter.widget-view+json": {
              "version_major": 2,
              "version_minor": 0,
              "model_id": "f5aa972278e844ada365eabb1710d627"
            }
          },
          "metadata": {}
        },
        {
          "output_type": "display_data",
          "data": {
            "text/plain": "Phase valid::   0%|          | 0/131 [00:00<?, ?it/s]",
            "application/vnd.jupyter.widget-view+json": {
              "version_major": 2,
              "version_minor": 0,
              "model_id": "460f490f846f4b07bd5a0b1a1024729e"
            }
          },
          "metadata": {}
        },
        {
          "output_type": "display_data",
          "data": {
            "text/plain": "Phase train::   0%|          | 0/524 [00:00<?, ?it/s]",
            "application/vnd.jupyter.widget-view+json": {
              "version_major": 2,
              "version_minor": 0,
              "model_id": "f0e68af0ffa34465bd80a7b929b49016"
            }
          },
          "metadata": {}
        },
        {
          "output_type": "display_data",
          "data": {
            "text/plain": "Phase valid::   0%|          | 0/131 [00:00<?, ?it/s]",
            "application/vnd.jupyter.widget-view+json": {
              "version_major": 2,
              "version_minor": 0,
              "model_id": "01f85352c35f40e7ac8144e6677af2d9"
            }
          },
          "metadata": {}
        },
        {
          "output_type": "display_data",
          "data": {
            "text/plain": "Phase train::   0%|          | 0/524 [00:00<?, ?it/s]",
            "application/vnd.jupyter.widget-view+json": {
              "version_major": 2,
              "version_minor": 0,
              "model_id": "f6ec8389bec647a29276a08828a1413e"
            }
          },
          "metadata": {}
        },
        {
          "output_type": "display_data",
          "data": {
            "text/plain": "Phase valid::   0%|          | 0/131 [00:00<?, ?it/s]",
            "application/vnd.jupyter.widget-view+json": {
              "version_major": 2,
              "version_minor": 0,
              "model_id": "44134038981b4be8a4f2fe6d1c77a0a4"
            }
          },
          "metadata": {}
        },
        {
          "output_type": "display_data",
          "data": {
            "text/plain": "Phase train::   0%|          | 0/524 [00:00<?, ?it/s]",
            "application/vnd.jupyter.widget-view+json": {
              "version_major": 2,
              "version_minor": 0,
              "model_id": "6ffa32204d5b49159939f3c2d9c72ace"
            }
          },
          "metadata": {}
        },
        {
          "output_type": "display_data",
          "data": {
            "text/plain": "Phase valid::   0%|          | 0/131 [00:00<?, ?it/s]",
            "application/vnd.jupyter.widget-view+json": {
              "version_major": 2,
              "version_minor": 0,
              "model_id": "e07a5db74edf428b9e3e05c7237b1ca1"
            }
          },
          "metadata": {}
        },
        {
          "output_type": "display_data",
          "data": {
            "text/plain": "Phase train::   0%|          | 0/524 [00:00<?, ?it/s]",
            "application/vnd.jupyter.widget-view+json": {
              "version_major": 2,
              "version_minor": 0,
              "model_id": "5ea64ef48f0e4abe8675e6ef0ce90117"
            }
          },
          "metadata": {}
        },
        {
          "output_type": "display_data",
          "data": {
            "text/plain": "Phase valid::   0%|          | 0/131 [00:00<?, ?it/s]",
            "application/vnd.jupyter.widget-view+json": {
              "version_major": 2,
              "version_minor": 0,
              "model_id": "cad51b7b0af34c4cba3298fdeade49bc"
            }
          },
          "metadata": {}
        },
        {
          "output_type": "display_data",
          "data": {
            "text/plain": "Phase train::   0%|          | 0/524 [00:00<?, ?it/s]",
            "application/vnd.jupyter.widget-view+json": {
              "version_major": 2,
              "version_minor": 0,
              "model_id": "20b81f7426554beb8da3337bc10b2593"
            }
          },
          "metadata": {}
        },
        {
          "output_type": "display_data",
          "data": {
            "text/plain": "Phase valid::   0%|          | 0/131 [00:00<?, ?it/s]",
            "application/vnd.jupyter.widget-view+json": {
              "version_major": 2,
              "version_minor": 0,
              "model_id": "60f920c86d304651a0b40b3a65099979"
            }
          },
          "metadata": {}
        },
        {
          "output_type": "display_data",
          "data": {
            "text/plain": "Phase train::   0%|          | 0/524 [00:00<?, ?it/s]",
            "application/vnd.jupyter.widget-view+json": {
              "version_major": 2,
              "version_minor": 0,
              "model_id": "00a893ea5be547e6a1a4049c2988b2cf"
            }
          },
          "metadata": {}
        },
        {
          "output_type": "display_data",
          "data": {
            "text/plain": "Phase valid::   0%|          | 0/131 [00:00<?, ?it/s]",
            "application/vnd.jupyter.widget-view+json": {
              "version_major": 2,
              "version_minor": 0,
              "model_id": "a749c28eeb5d42ff9a22304b8c22f0e6"
            }
          },
          "metadata": {}
        },
        {
          "output_type": "display_data",
          "data": {
            "text/plain": "Phase train::   0%|          | 0/524 [00:00<?, ?it/s]",
            "application/vnd.jupyter.widget-view+json": {
              "version_major": 2,
              "version_minor": 0,
              "model_id": "c04973385eac40fa80a2d1162f4cc71c"
            }
          },
          "metadata": {}
        },
        {
          "output_type": "display_data",
          "data": {
            "text/plain": "Phase valid::   0%|          | 0/131 [00:00<?, ?it/s]",
            "application/vnd.jupyter.widget-view+json": {
              "version_major": 2,
              "version_minor": 0,
              "model_id": "249995836ce84c48b1a56f50aef501ee"
            }
          },
          "metadata": {}
        },
        {
          "output_type": "display_data",
          "data": {
            "text/plain": "<Figure size 1440x576 with 2 Axes>",
            "image/png": "[encoded data removed]"
          },
          "metadata": {
            "needs_background": "light"
          }
        },
        {
          "output_type": "display_data",
          "data": {
            "text/plain": "  0%|          | 0/31 [00:00<?, ?it/s]",
            "application/vnd.jupyter.widget-view+json": {
              "version_major": 2,
              "version_minor": 0,
              "model_id": "f59771d5f3084da39c348dd4687923ed"
            }
          },
          "metadata": {}
        },
        {
          "name": "stdout",
          "text": "(991, 42)\n",
          "output_type": "stream"
        }
      ]
    }
  ]
}
